{
 "cells": [
  {
   "cell_type": "code",
   "execution_count": 24,
   "metadata": {},
   "outputs": [
    {
     "name": "stdout",
     "output_type": "stream",
     "text": [
      "Prueba de Shapiro-Wilk: ShapiroResult(statistic=0.999639093875885, pvalue=0.523352861404419)\n"
     ]
    }
   ],
   "source": [
    "import pandas as pd\n",
    "import numpy as np\n",
    "from scipy.stats import shapiro\n",
    "\n",
    "\n",
    "# Cargamos la muestra\n",
    "data = pd.read_csv(\"./desplazamiento/E5.desplazamientos.txt\", names=['duracion'])\n",
    "\n",
    "# Realizamos las pruebas\n",
    "shapiro_test = shapiro(data[\"duracion\"])\n",
    "\n",
    "# Imprimimos los resultados\n",
    "print(\"Prueba de Shapiro-Wilk:\", shapiro_test)\n"
   ]
  },
  {
   "cell_type": "code",
   "execution_count": 23,
   "metadata": {},
   "outputs": [
    {
     "name": "stdout",
     "output_type": "stream",
     "text": [
      "Mu estimado: 10.007615178513978\n",
      "Sigma estimado: 3.0373964893054337\n"
     ]
    }
   ],
   "source": [
    "# Estimamos los parámetros mu y sigma\n",
    "mu_hat = sum(data[\"duracion\"]) / len(data[\"duracion\"])\n",
    "sigma_hat = np.sqrt(sum((data[\"duracion\"] - mu_hat)**2) / len(data[\"duracion\"]))\n",
    "\n",
    "print(\"Mu estimado:\", mu_hat)\n",
    "print(\"Sigma estimado:\", sigma_hat)\n"
   ]
  },
  {
   "cell_type": "code",
   "execution_count": 27,
   "metadata": {},
   "outputs": [
    {
     "name": "stdout",
     "output_type": "stream",
     "text": [
      "0.0016975605788955806\n"
     ]
    }
   ],
   "source": [
    "import numpy as np\n",
    "\n",
    "x = 1.05\n",
    "\n",
    "pdf = 1 / np.sqrt(2 * np.pi * sigma_hat**2) * np.exp(-(x - mu_hat)**2 / (2 * sigma_hat**2))\n",
    "\n",
    "print(pdf)\n"
   ]
  },
  {
   "cell_type": "code",
   "execution_count": null,
   "metadata": {},
   "outputs": [],
   "source": []
  }
 ],
 "metadata": {
  "kernelspec": {
   "display_name": "venv",
   "language": "python",
   "name": "python3"
  },
  "language_info": {
   "codemirror_mode": {
    "name": "ipython",
    "version": 3
   },
   "file_extension": ".py",
   "mimetype": "text/x-python",
   "name": "python",
   "nbconvert_exporter": "python",
   "pygments_lexer": "ipython3",
   "version": "3.11.5"
  }
 },
 "nbformat": 4,
 "nbformat_minor": 2
}
