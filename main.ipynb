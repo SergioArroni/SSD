{
 "cells": [
  {
   "cell_type": "code",
   "execution_count": 13,
   "metadata": {},
   "outputs": [
    {
     "name": "stdout",
     "output_type": "stream",
     "text": [
      "Prueba de Shapiro-Wilk: ShapiroResult(statistic=0.999638020992279, pvalue=0.5203962922096252)\n"
     ]
    }
   ],
   "source": [
    "import pandas as pd\n",
    "import numpy as np\n",
    "from scipy.stats import kstest, shapiro\n",
    "\n",
    "# Cargamos la muestra\n",
    "data = pd.read_csv(\"./desplazamiento/E5.desplazamientos.txt\")\n",
    "\n",
    "# Realizamos las pruebas\n",
    "# ks_test = kstest(data, \"norm\")\n",
    "shapiro_test = shapiro(data)\n",
    "\n",
    "# Imprimimos los resultados\n",
    "# print(\"Prueba de Kolmogorov-Smirnov:\", ks_test)\n",
    "print(\"Prueba de Shapiro-Wilk:\", shapiro_test)\n"
   ]
  },
  {
   "cell_type": "code",
   "execution_count": 11,
   "metadata": {},
   "outputs": [
    {
     "name": "stdout",
     "output_type": "stream",
     "text": [
      "Lambda: 10.007311658845769\n"
     ]
    }
   ],
   "source": [
    "# Estimamos los parámetros de la distribución exponencial\n",
    "lamda = np.mean(data)\n",
    "\n",
    "# Imprimimos los parámetros estimados\n",
    "print(\"Lambda:\", lamda)\n"
   ]
  },
  {
   "cell_type": "code",
   "execution_count": null,
   "metadata": {},
   "outputs": [],
   "source": []
  }
 ],
 "metadata": {
  "kernelspec": {
   "display_name": "venv",
   "language": "python",
   "name": "python3"
  },
  "language_info": {
   "codemirror_mode": {
    "name": "ipython",
    "version": 3
   },
   "file_extension": ".py",
   "mimetype": "text/x-python",
   "name": "python",
   "nbconvert_exporter": "python",
   "pygments_lexer": "ipython3",
   "version": "3.11.5"
  }
 },
 "nbformat": 4,
 "nbformat_minor": 2
}
